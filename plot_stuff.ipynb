{
 "cells": [
  {
   "cell_type": "code",
   "execution_count": 1,
   "id": "ce05288a",
   "metadata": {},
   "outputs": [],
   "source": [
    "import matplotlib.pyplot as plt\n",
    "import numpy as np"
   ]
  },
  {
   "cell_type": "code",
   "execution_count": 2,
   "id": "c109e37f",
   "metadata": {},
   "outputs": [],
   "source": [
    "import Kathryn as KA\n",
    "import Emma as EH\n",
    "import Francisco as FMW"
   ]
  },
  {
   "cell_type": "code",
   "execution_count": 3,
   "id": "c172ee47",
   "metadata": {},
   "outputs": [
    {
     "data": {
      "image/png": "[encoded data removed]",
      "text/plain": [
       "<Figure size 432x288 with 1 Axes>"
      ]
     },
     "metadata": {
      "needs_background": "light"
     },
     "output_type": "display_data"
    }
   ],
   "source": [
    "x = np.linspace(-1,1,1000)\n",
    "plt.figure()\n",
    "plt.plot(x, KA.plot_me(x), color=KA.plot_color)\n",
    "plt.plot(x, EH.plot_me(x), color=EH.plot_color)\n",
    "plt.plot(x, FMW.plot_me(x), color=FMW.plot_color)\n",
    "plt.ylim(0,2)\n",
    "plt.show()"
   ]
  },
  {
   "cell_type": "code",
   "execution_count": null,
   "id": "662e0eea",
   "metadata": {},
   "outputs": [],
   "source": []
  }
 ],
 "metadata": {
  "kernelspec": {
   "display_name": "Python 3 (ipykernel)",
   "language": "python",
   "name": "python3"
  },
  "language_info": {
   "codemirror_mode": {
    "name": "ipython",
    "version": 3
   },
   "file_extension": ".py",
   "mimetype": "text/x-python",
   "name": "python",
   "nbconvert_exporter": "python",
   "pygments_lexer": "ipython3",
   "version": "3.9.7"
  }
 },
 "nbformat": 4,
 "nbformat_minor": 5
}
